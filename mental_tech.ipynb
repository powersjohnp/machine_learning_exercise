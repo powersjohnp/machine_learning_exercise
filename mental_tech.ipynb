{
 "cells": [
  {
   "cell_type": "code",
   "execution_count": 1,
   "id": "8e5a1e07-a04b-4a01-b042-2639b84f595c",
   "metadata": {},
   "outputs": [],
   "source": [
    "# publicly shared dataset on mental health in tech and similar workplaces downloaded from:\n",
    "# https://www.kaggle.com/datasets/osmi/mental-health-in-tech-2016\n",
    "\n",
    "# load dataset into a dataframe\n",
    "import pandas as pd\n",
    "data = pd.read_csv(\"data/mental_tech.csv\")"
   ]
  },
  {
   "cell_type": "markdown",
   "id": "768dcae3-201d-419c-92b3-7c3190901001",
   "metadata": {},
   "source": [
    "## Data preprocessing"
   ]
  },
  {
   "cell_type": "code",
   "execution_count": 2,
   "id": "f6f3beca-7985-419c-a746-74a162d92bf0",
   "metadata": {},
   "outputs": [],
   "source": [
    "# data.info() indicated that the majority of variables have 1000-1500 non-null values\n",
    "# but some have < 1000\n",
    "# drop columns with < 1000 non-null values\n",
    "data.dropna(axis='columns', thresh=1000, inplace=True)"
   ]
  },
  {
   "cell_type": "code",
   "execution_count": 3,
   "id": "e54eeaf1-5e73-439d-99bd-db1159d8dd2a",
   "metadata": {},
   "outputs": [
    {
     "name": "stdout",
     "output_type": "stream",
     "text": [
      "<class 'pandas.core.frame.DataFrame'>\n",
      "RangeIndex: 1433 entries, 0 to 1432\n",
      "Data columns (total 48 columns):\n",
      " #   Column                                                                                                                                          Non-Null Count  Dtype  \n",
      "---  ------                                                                                                                                          --------------  -----  \n",
      " 0   Are you self-employed?                                                                                                                          1433 non-null   int64  \n",
      " 1   How many employees does your company or organization have?                                                                                      1146 non-null   object \n",
      " 2   Is your employer primarily a tech company/organization?                                                                                         1146 non-null   float64\n",
      " 3   Does your employer provide mental health benefits as part of healthcare coverage?                                                               1146 non-null   object \n",
      " 4   Do you know the options for mental health care available under your employer-provided coverage?                                                 1013 non-null   object \n",
      " 5   Has your employer ever formally discussed mental health (for example, as part of a wellness campaign or other official communication)?          1146 non-null   object \n",
      " 6   Does your employer offer resources to learn more about mental health concerns and options for seeking help?                                     1146 non-null   object \n",
      " 7   Is your anonymity protected if you choose to take advantage of mental health or substance abuse treatment resources provided by your employer?  1146 non-null   object \n",
      " 8   If a mental health issue prompted you to request a medical leave from work, asking for that leave would be:                                     1146 non-null   object \n",
      " 9   Do you think that discussing a mental health disorder with your employer would have negative consequences?                                      1146 non-null   object \n",
      " 10  Do you think that discussing a physical health issue with your employer would have negative consequences?                                       1146 non-null   object \n",
      " 11  Would you feel comfortable discussing a mental health disorder with your coworkers?                                                             1146 non-null   object \n",
      " 12  Would you feel comfortable discussing a mental health disorder with your direct supervisor(s)?                                                  1146 non-null   object \n",
      " 13  Do you feel that your employer takes mental health as seriously as physical health?                                                             1146 non-null   object \n",
      " 14  Have you heard of or observed negative consequences for co-workers who have been open about mental health issues in your workplace?             1146 non-null   object \n",
      " 15  Do you have previous employers?                                                                                                                 1433 non-null   int64  \n",
      " 16  Have your previous employers provided mental health benefits?                                                                                   1264 non-null   object \n",
      " 17  Were you aware of the options for mental health care provided by your previous employers?                                                       1264 non-null   object \n",
      " 18  Did your previous employers ever formally discuss mental health (as part of a wellness campaign or other official communication)?               1264 non-null   object \n",
      " 19  Did your previous employers provide resources to learn more about mental health issues and how to seek help?                                    1264 non-null   object \n",
      " 20  Was your anonymity protected if you chose to take advantage of mental health or substance abuse treatment resources with previous employers?    1264 non-null   object \n",
      " 21  Do you think that discussing a mental health disorder with previous employers would have negative consequences?                                 1264 non-null   object \n",
      " 22  Do you think that discussing a physical health issue with previous employers would have negative consequences?                                  1264 non-null   object \n",
      " 23  Would you have been willing to discuss a mental health issue with your previous co-workers?                                                     1264 non-null   object \n",
      " 24  Would you have been willing to discuss a mental health issue with your direct supervisor(s)?                                                    1264 non-null   object \n",
      " 25  Did you feel that your previous employers took mental health as seriously as physical health?                                                   1264 non-null   object \n",
      " 26  Did you hear of or observe negative consequences for co-workers with mental health issues in your previous workplaces?                          1264 non-null   object \n",
      " 27  Would you be willing to bring up a physical health issue with a potential employer in an interview?                                             1433 non-null   object \n",
      " 28  Why or why not?                                                                                                                                 1095 non-null   object \n",
      " 29  Would you bring up a mental health issue with a potential employer in an interview?                                                             1433 non-null   object \n",
      " 30  Why or why not?.1                                                                                                                               1126 non-null   object \n",
      " 31  Do you feel that being identified as a person with a mental health issue would hurt your career?                                                1433 non-null   object \n",
      " 32  Do you think that team members/co-workers would view you more negatively if they knew you suffered from a mental health issue?                  1433 non-null   object \n",
      " 33  How willing would you be to share with friends and family that you have a mental illness?                                                       1433 non-null   object \n",
      " 34  Have you observed or experienced an unsupportive or badly handled response to a mental health issue in your current or previous workplace?      1344 non-null   object \n",
      " 35  Do you have a family history of mental illness?                                                                                                 1433 non-null   object \n",
      " 36  Have you had a mental health disorder in the past?                                                                                              1433 non-null   object \n",
      " 37  Do you currently have a mental health disorder?                                                                                                 1433 non-null   object \n",
      " 38  Have you been diagnosed with a mental health condition by a medical professional?                                                               1433 non-null   object \n",
      " 39  Have you ever sought treatment for a mental health issue from a mental health professional?                                                     1433 non-null   int64  \n",
      " 40  If you have a mental health issue, do you feel that it interferes with your work when being treated effectively?                                1433 non-null   object \n",
      " 41  If you have a mental health issue, do you feel that it interferes with your work when NOT being treated effectively?                            1433 non-null   object \n",
      " 42  What is your age?                                                                                                                               1433 non-null   int64  \n",
      " 43  What is your gender?                                                                                                                            1430 non-null   object \n",
      " 44  What country do you live in?                                                                                                                    1433 non-null   object \n",
      " 45  What country do you work in?                                                                                                                    1433 non-null   object \n",
      " 46  Which of the following best describes your work position?                                                                                       1433 non-null   object \n",
      " 47  Do you work remotely?                                                                                                                           1433 non-null   object \n",
      "dtypes: float64(1), int64(4), object(43)\n",
      "memory usage: 537.5+ KB\n"
     ]
    }
   ],
   "source": [
    "data.info()"
   ]
  },
  {
   "cell_type": "markdown",
   "id": "cb012516-150d-4124-bb76-96daab54c170",
   "metadata": {},
   "source": [
    "Column names are very long strings, so columns will be identified by index until renamed with short names.\n",
    "\n",
    "I am interested in predicting belief that being identified as a person with a mental health issue would hurt career (index 31, short name: hurt_career) using:  \n",
    "5 current employer discusses mental health (current_discuss)  \n",
    "6 current employer offers mental health resources (current_resources)  \n",
    "13 belief that current employer takes mental health as seriously as physical health (current_vs_physical)  \n",
    "18 previous employer discusses mental health (previous_discuss)  \n",
    "19 previous employer offers mental health resources (previous_resources)  \n",
    "25 belief that previous employer takes mental health as seriously as physical health (previous_vs_physical)  \n",
    "34 observed/experienced bad response to mental health issue in workplace (bad_response)  \n",
    "35 family hx mental illness (family_hx)  \n",
    "38 diagnosed with mental illness (diagnosed)  \n",
    "42 age (age)  \n",
    "43 gender (gender)  \n",
    "47 work remotely (remote)"
   ]
  },
  {
   "cell_type": "code",
   "execution_count": 4,
   "id": "54d72e12-a20b-41b4-a4c4-b75fe0ea30ee",
   "metadata": {},
   "outputs": [],
   "source": [
    "# reduce dataset to variables of interest and rename columns with short names\n",
    "data = data.iloc[:,[31,5,6,13,18,19,25,34,35,38,42,43,47]]\n",
    "data.columns = ['hurt_career', 'current_discuss', 'current_resources', 'current_vs_physical',\n",
    "               'previous_discuss', 'previous_resources', 'previous_vs_physical', 'bad_response',\n",
    "               'family_hx', 'diagnosed', 'age', 'gender', 'remote']"
   ]
  },
  {
   "cell_type": "code",
   "execution_count": 5,
   "id": "763561e3-d3c6-4b6e-941c-65159cd050f4",
   "metadata": {},
   "outputs": [
    {
     "data": {
      "text/plain": [
       "count    1433.000000\n",
       "mean       34.286113\n",
       "std        11.290931\n",
       "min         3.000000\n",
       "25%        28.000000\n",
       "50%        33.000000\n",
       "75%        39.000000\n",
       "max       323.000000\n",
       "Name: age, dtype: float64"
      ]
     },
     "execution_count": 5,
     "metadata": {},
     "output_type": "execute_result"
    }
   ],
   "source": [
    "# age is only int dtype, the rest are object\n",
    "data['age'].describe()"
   ]
  },
  {
   "cell_type": "markdown",
   "id": "edd4ff2c-f91e-4d10-8c25-2764a423d89d",
   "metadata": {},
   "source": [
    "Min and max indicate some weird age values.  \n",
    "These could indicate some unreliable samples.  \n",
    "Exploring further:"
   ]
  },
  {
   "cell_type": "code",
   "execution_count": 6,
   "id": "b129e38c-ed43-45d4-988e-b57e0fe084af",
   "metadata": {},
   "outputs": [
    {
     "data": {
      "text/plain": [
       "2"
      ]
     },
     "execution_count": 6,
     "metadata": {},
     "output_type": "execute_result"
    }
   ],
   "source": [
    "# how many age values under 16?\n",
    "sum(data['age'] < 16)"
   ]
  },
  {
   "cell_type": "code",
   "execution_count": 7,
   "id": "d8911974-0357-423d-9dd3-0f658a035f15",
   "metadata": {},
   "outputs": [
    {
     "data": {
      "text/plain": [
       "Int64Index([656, 808], dtype='int64')"
      ]
     },
     "execution_count": 7,
     "metadata": {},
     "output_type": "execute_result"
    }
   ],
   "source": [
    "# which samples?\n",
    "data.index[data['age'] < 16]"
   ]
  },
  {
   "cell_type": "markdown",
   "id": "489e434d-5d5e-452e-8558-74fe91ae84b5",
   "metadata": {},
   "source": [
    "Manual inspection of these samples revealed 808 could be legitimate response of age 15 doing freelance work.  \n",
    "656 reports age 3, so likely an unreliable record that can be dropped."
   ]
  },
  {
   "cell_type": "code",
   "execution_count": 8,
   "id": "b0f91be2-7084-40ab-b713-4f016f0bb3eb",
   "metadata": {},
   "outputs": [
    {
     "data": {
      "text/plain": [
       "2"
      ]
     },
     "execution_count": 8,
     "metadata": {},
     "output_type": "execute_result"
    }
   ],
   "source": [
    "# how many age values over 80?\n",
    "sum(data['age'] > 80)"
   ]
  },
  {
   "cell_type": "code",
   "execution_count": 9,
   "id": "eaf86493-d910-4ca7-bfe7-c133a6aefbfe",
   "metadata": {},
   "outputs": [
    {
     "data": {
      "text/plain": [
       "Int64Index([372, 564], dtype='int64')"
      ]
     },
     "execution_count": 9,
     "metadata": {},
     "output_type": "execute_result"
    }
   ],
   "source": [
    "# which samples?\n",
    "data.index[data['age'] > 80]"
   ]
  },
  {
   "cell_type": "markdown",
   "id": "2361fd84-15d4-4ff2-973c-cc94d7721ebd",
   "metadata": {},
   "source": [
    "Manual inspection of these samples revealed they are both likely to be unreliable records that can be dropped."
   ]
  },
  {
   "cell_type": "code",
   "execution_count": 10,
   "id": "52de2d57-a014-4907-87f7-d371ce4c155c",
   "metadata": {},
   "outputs": [],
   "source": [
    "# dropping unreliable samples\n",
    "data = data.drop(index=[656, 372, 564])"
   ]
  },
  {
   "cell_type": "code",
   "execution_count": 11,
   "id": "1c5d28d9-241a-4e33-96e0-a191e44ed4c0",
   "metadata": {},
   "outputs": [
    {
     "data": {
      "text/plain": [
       "14"
      ]
     },
     "execution_count": 11,
     "metadata": {},
     "output_type": "execute_result"
    }
   ],
   "source": [
    "# how many samples have null values for more than half of variables?\n",
    "sum(data.isnull().sum(axis=1) > 6)"
   ]
  },
  {
   "cell_type": "code",
   "execution_count": 12,
   "id": "775b3588-a8ef-4cdd-86d1-ed42108b3eff",
   "metadata": {},
   "outputs": [],
   "source": [
    "# dropping samples with many null values\n",
    "null_idx = data.index[data.isnull().sum(axis=1) > 6]\n",
    "data = data.drop(index=null_idx)"
   ]
  },
  {
   "cell_type": "code",
   "execution_count": 13,
   "id": "04d36e15-6d74-4df7-82aa-c85813a33e82",
   "metadata": {},
   "outputs": [
    {
     "data": {
      "text/plain": [
       "Male                                                                                                                                                             604\n",
       "male                                                                                                                                                             243\n",
       "Female                                                                                                                                                           152\n",
       "female                                                                                                                                                            94\n",
       "M                                                                                                                                                                 85\n",
       "m                                                                                                                                                                 79\n",
       "F                                                                                                                                                                 37\n",
       "f                                                                                                                                                                 23\n",
       "Male                                                                                                                                                              11\n",
       "Female                                                                                                                                                             9\n",
       "woman                                                                                                                                                              4\n",
       "non-binary                                                                                                                                                         4\n",
       "Woman                                                                                                                                                              3\n",
       "man                                                                                                                                                                3\n",
       "female                                                                                                                                                             3\n",
       "Nonbinary                                                                                                                                                          2\n",
       "male                                                                                                                                                               2\n",
       "Male (cis)                                                                                                                                                         2\n",
       "Man                                                                                                                                                                2\n",
       "Agender                                                                                                                                                            2\n",
       "Cis-woman                                                                                                                                                          1\n",
       "Queer                                                                                                                                                              1\n",
       "Dude                                                                                                                                                               1\n",
       "Fluid                                                                                                                                                              1\n",
       "I'm a man why didn't you make this a drop down question. You should of asked sex? And I would of answered yes please. Seriously how much text can this take?       1\n",
       "mail                                                                                                                                                               1\n",
       "M|                                                                                                                                                                 1\n",
       "Male/genderqueer                                                                                                                                                   1\n",
       "Transgender woman                                                                                                                                                  1\n",
       "fem                                                                                                                                                                1\n",
       "AFAB                                                                                                                                                               1\n",
       "cis man                                                                                                                                                            1\n",
       "female-bodied; no feelings about gender                                                                                                                            1\n",
       "Genderflux demi-girl                                                                                                                                               1\n",
       "human                                                                                                                                                              1\n",
       "Female (props for making this a freeform field, though)                                                                                                            1\n",
       " Female                                                                                                                                                            1\n",
       "Unicorn                                                                                                                                                            1\n",
       "Cis Male                                                                                                                                                           1\n",
       "cisdude                                                                                                                                                            1\n",
       "Genderqueer                                                                                                                                                        1\n",
       "Male (trans, FtM)                                                                                                                                                  1\n",
       "none of your business                                                                                                                                              1\n",
       "mtf                                                                                                                                                                1\n",
       "genderqueer woman                                                                                                                                                  1\n",
       "I identify as female.                                                                                                                                              1\n",
       "Bigender                                                                                                                                                           1\n",
       "Female assigned at birth                                                                                                                                           1\n",
       "fm                                                                                                                                                                 1\n",
       "Cis female                                                                                                                                                         1\n",
       "Transitioned, M2F                                                                                                                                                  1\n",
       "Genderfluid (born female)                                                                                                                                          1\n",
       "Other/Transfeminine                                                                                                                                                1\n",
       "Female or Multi-Gender Femme                                                                                                                                       1\n",
       "female/woman                                                                                                                                                       1\n",
       "Cis male                                                                                                                                                           1\n",
       "Male.                                                                                                                                                              1\n",
       "Androgynous                                                                                                                                                        1\n",
       "male 9:1 female, roughly                                                                                                                                           1\n",
       "nb masculine                                                                                                                                                       1\n",
       "Cisgender Female                                                                                                                                                   1\n",
       "Sex is male                                                                                                                                                        1\n",
       "genderqueer                                                                                                                                                        1\n",
       "cis male                                                                                                                                                           1\n",
       "Human                                                                                                                                                              1\n",
       "Genderfluid                                                                                                                                                        1\n",
       "Enby                                                                                                                                                               1\n",
       "Malr                                                                                                                                                               1\n",
       "MALE                                                                                                                                                               1\n",
       "Name: gender, dtype: int64"
      ]
     },
     "execution_count": 13,
     "metadata": {},
     "output_type": "execute_result"
    }
   ],
   "source": [
    "# examine gender responses\n",
    "pd.set_option(\"display.max_rows\", 70)\n",
    "data['gender'].value_counts()"
   ]
  },
  {
   "cell_type": "code",
   "execution_count": 14,
   "id": "f94332f3-e4ad-4c45-a54b-e0f2c2680b55",
   "metadata": {},
   "outputs": [],
   "source": [
    "# gender was clearly a free-response item, therefore will be recoded into more useful groups: female, male, other\n",
    "data['gender'] = data['gender'].map({'Male': 'male', 'male': 'male', 'Female': 'female', 'female': 'female', 'M': 'male', 'm': 'male', 'F': 'female', 'f': 'female', 'Male ': 'male', \n",
    "                                    'Female ': 'female', 'woman': 'female', 'non-binary': 'other', 'Woman': 'female', 'man': 'male', 'female ': 'female', 'Nonbinary': 'other', 'male ': 'male',\n",
    "                                    'Male (cis)': 'male', 'Man': 'male', 'Agender': 'other', 'Cis-woman': 'female', 'Queer': 'other', 'Dude': 'male', 'Fluid': 'other', \n",
    "                                    \"I'm a man why didn't you make this a drop down question. You should of asked sex? And I would of answered yes please. Seriously how much text can this take? \": 'male',\n",
    "                                    'mail': 'male', 'M|': 'male', 'Male/genderqueer': 'other', 'Transgender woman': 'other', 'fem': 'female', 'AFAB': 'female', 'cis man': 'male',\n",
    "                                    'female-bodied; no feelings about gender': 'other', 'Genderflux demi-girl': 'other', 'human': 'other', 'Female (props for making this a freeform field, though)': 'female',\n",
    "                                    ' Female': 'female', 'Unicorn': 'other', 'Cis Male': 'male', 'cisdude': 'male', 'Genderqueer': 'other', 'Male (trans, FtM)': 'other', 'none of your business': 'other',\n",
    "                                    'mtf': 'other', 'genderqueer woman': 'other', 'I identify as female.': 'female', 'Bigender': 'other', 'Female assigned at birth ': 'female', 'fm': 'female',\n",
    "                                    'Cis female ': 'female', 'Transitioned, M2F': 'other', 'Genderfluid (born female)': 'other', 'Other/Transfeminine': 'other', 'Female or Multi-Gender Femme': 'other',\n",
    "                                    'female/woman': 'female', 'Cis male': 'male', 'Male.': 'male', 'Androgynous': 'other', 'male 9:1 female, roughly': 'other', 'nb masculine': 'other', \n",
    "                                    'Cisgender Female': 'female', 'Sex is male': 'male', 'genderqueer': 'other', 'cis male': 'male', 'Human': 'other', 'Genderfluid': 'other', 'Enby': 'other',\n",
    "                                    'Malr': 'male', 'MALE': 'male'})"
   ]
  },
  {
   "cell_type": "code",
   "execution_count": 15,
   "id": "208f9bc1-c8ef-4f3d-b0bc-19e7c9bd7e03",
   "metadata": {},
   "outputs": [
    {
     "name": "stdout",
     "output_type": "stream",
     "text": [
      "5 unique values in column hurt_career\n",
      "4 unique values in column current_discuss\n",
      "4 unique values in column current_resources\n",
      "4 unique values in column current_vs_physical\n",
      "5 unique values in column previous_discuss\n",
      "4 unique values in column previous_resources\n",
      "5 unique values in column previous_vs_physical\n",
      "5 unique values in column bad_response\n",
      "3 unique values in column family_hx\n",
      "2 unique values in column diagnosed\n",
      "49 unique values in column age\n",
      "4 unique values in column gender\n",
      "3 unique values in column remote\n"
     ]
    }
   ],
   "source": [
    "# examine how many unique values in each column to check for any other categorical variables that may have been free-response\n",
    "# or otherwise have a very large number of categories\n",
    "for c in range(data.shape[1]):\n",
    "    print(len(data.iloc[:,c].unique()), \"unique values in column\", data.columns[c])"
   ]
  },
  {
   "cell_type": "markdown",
   "id": "c3a1a19d-e9e2-4f14-9829-2259eb29233a",
   "metadata": {},
   "source": [
    "These results look good (except hurt_career, the target variable), but I still manually examined the response options for each remaining categorical variable using value_counts().  \n",
    "I did not observe any issues that would need to be addressed."
   ]
  },
  {
   "cell_type": "code",
   "execution_count": 16,
   "id": "d04086f8-0832-478e-8c61-f92877601c5a",
   "metadata": {},
   "outputs": [
    {
     "data": {
      "text/plain": [
       "Maybe                         581\n",
       "Yes, I think it would         556\n",
       "No, I don't think it would    144\n",
       "Yes, it has                   105\n",
       "No, it has not                 30\n",
       "Name: hurt_career, dtype: int64"
      ]
     },
     "execution_count": 16,
     "metadata": {},
     "output_type": "execute_result"
    }
   ],
   "source": [
    "# inspect response options and counts for potential target variable\n",
    "data['hurt_career'].value_counts()"
   ]
  },
  {
   "cell_type": "code",
   "execution_count": 17,
   "id": "b983bf37-63bc-4e63-94c4-71855a1a4f02",
   "metadata": {},
   "outputs": [
    {
     "name": "stdout",
     "output_type": "stream",
     "text": [
      "0    755\n",
      "1    661\n",
      "Name: hurt_career, dtype: int64\n"
     ]
    }
   ],
   "source": [
    "# define target variable\n",
    "# reduce from 5 categories to 2\n",
    "# 0 indicates person is not confident that mental health identity would hurt career\n",
    "# 1 indicates person is confident that mental health identity would hurt career\n",
    "target = data['hurt_career'].map({'Maybe': 0, \"No, I don't think it would\": 0, 'No, it has not': 0, \n",
    "                                   'Yes, I think it would': 1, 'Yes, it has': 1})\n",
    "print(target.value_counts())\n",
    "data = data.drop(columns='hurt_career')"
   ]
  },
  {
   "cell_type": "markdown",
   "id": "4a97e77a-12ee-4806-8413-16408cef08d7",
   "metadata": {},
   "source": [
    "## Histogram gradient boosting classifier pipeline and optimization"
   ]
  },
  {
   "cell_type": "markdown",
   "id": "3799c215-6138-4013-a02f-20cc79bf4e47",
   "metadata": {},
   "source": [
    "#### Preprocessor"
   ]
  },
  {
   "cell_type": "code",
   "execution_count": 18,
   "id": "0ddfd796-059f-43c0-a731-cbcaf58b15e2",
   "metadata": {},
   "outputs": [],
   "source": [
    "# identify categorical data columns for encoding\n",
    "categorical_columns = ['current_discuss', 'current_resources', 'current_vs_physical',\n",
    "               'previous_discuss', 'previous_resources', 'previous_vs_physical', 'bad_response',\n",
    "               'family_hx', 'diagnosed', 'gender', 'remote']\n",
    "\n",
    "# create preprocessor for categorical data\n",
    "# the ColumnTransformer will apply the preprocessor only to categorical columns\n",
    "from sklearn.compose import ColumnTransformer\n",
    "from sklearn.preprocessing import OrdinalEncoder\n",
    "preprocessor = ColumnTransformer([\n",
    "    ('categorical', OrdinalEncoder(handle_unknown = 'use_encoded_value', unknown_value = -1), categorical_columns)],\n",
    "    remainder = 'passthrough')"
   ]
  },
  {
   "cell_type": "markdown",
   "id": "fa4cd2fe-feda-49b7-9874-0631bf9fd237",
   "metadata": {},
   "source": [
    "I am applying ordinal encoding to all categorical variables, regardless of whether they are truly ordinal in nature.  \n",
    "This is appropriate and more efficient for tree-based models, which I will be applying here."
   ]
  },
  {
   "cell_type": "markdown",
   "id": "eaca10f7-49ea-489d-93ed-17bd6419398e",
   "metadata": {},
   "source": [
    "#### Grid search to optimize hyperparameters"
   ]
  },
  {
   "cell_type": "code",
   "execution_count": 19,
   "id": "8d1afc22-3112-4a4d-bdd4-67305d7a8f6c",
   "metadata": {},
   "outputs": [],
   "source": [
    "# create full model pipeline\n",
    "from sklearn.pipeline import make_pipeline\n",
    "from sklearn.ensemble import HistGradientBoostingClassifier\n",
    "hgbc = make_pipeline(preprocessor, HistGradientBoostingClassifier())"
   ]
  },
  {
   "cell_type": "code",
   "execution_count": 20,
   "id": "6be8ba57-05b3-461a-ab3e-2fec35e7ad0f",
   "metadata": {},
   "outputs": [],
   "source": [
    "# prepare a grid search over values for key hyperparameters\n",
    "from sklearn.model_selection import GridSearchCV\n",
    "params_to_search = {\n",
    "    'histgradientboostingclassifier__learning_rate': (0.01, 0.05, 0.1, 0.5, 1, 2),\n",
    "    'histgradientboostingclassifier__max_leaf_nodes': (5, 10, 20, 30, 40)}\n",
    "\n",
    "# grid search with 10 stratified shuffle split cross-validation \n",
    "from sklearn.model_selection import StratifiedShuffleSplit\n",
    "model_grid_search = GridSearchCV(hgbc, param_grid=params_to_search, n_jobs=2, cv=StratifiedShuffleSplit(test_size=0.2))"
   ]
  },
  {
   "cell_type": "code",
   "execution_count": 21,
   "id": "14bcf858-38fc-4fe3-9af0-00b8e22c9cac",
   "metadata": {},
   "outputs": [],
   "source": [
    "# run grid search\n",
    "# embedding model_grid_search within outer cross-validation \n",
    "# this means each grid search will be optimized on a different split of training data\n",
    "# and generalization performance of the best parameters from each grid search will be tested and stored \n",
    "from sklearn.model_selection import cross_validate\n",
    "cv_results = cross_validate(model_grid_search, data, target, cv=StratifiedShuffleSplit(test_size=0.2), n_jobs=2, return_estimator=True)"
   ]
  },
  {
   "cell_type": "code",
   "execution_count": 26,
   "id": "f1558b7d-06ef-466f-b681-32688ed5685b",
   "metadata": {},
   "outputs": [
    {
     "name": "stdout",
     "output_type": "stream",
     "text": [
      "Best hyperparameters for split #1:\n",
      "{'histgradientboostingclassifier__learning_rate': 0.05, 'histgradientboostingclassifier__max_leaf_nodes': 5}\n",
      "with accuracy of 0.620\n",
      "Best hyperparameters for split #2:\n",
      "{'histgradientboostingclassifier__learning_rate': 0.05, 'histgradientboostingclassifier__max_leaf_nodes': 5}\n",
      "with accuracy of 0.644\n",
      "Best hyperparameters for split #3:\n",
      "{'histgradientboostingclassifier__learning_rate': 0.1, 'histgradientboostingclassifier__max_leaf_nodes': 5}\n",
      "with accuracy of 0.616\n",
      "Best hyperparameters for split #4:\n",
      "{'histgradientboostingclassifier__learning_rate': 0.05, 'histgradientboostingclassifier__max_leaf_nodes': 5}\n",
      "with accuracy of 0.651\n",
      "Best hyperparameters for split #5:\n",
      "{'histgradientboostingclassifier__learning_rate': 0.05, 'histgradientboostingclassifier__max_leaf_nodes': 5}\n",
      "with accuracy of 0.680\n",
      "Best hyperparameters for split #6:\n",
      "{'histgradientboostingclassifier__learning_rate': 0.01, 'histgradientboostingclassifier__max_leaf_nodes': 10}\n",
      "with accuracy of 0.651\n",
      "Best hyperparameters for split #7:\n",
      "{'histgradientboostingclassifier__learning_rate': 0.01, 'histgradientboostingclassifier__max_leaf_nodes': 10}\n",
      "with accuracy of 0.623\n",
      "Best hyperparameters for split #8:\n",
      "{'histgradientboostingclassifier__learning_rate': 0.1, 'histgradientboostingclassifier__max_leaf_nodes': 5}\n",
      "with accuracy of 0.623\n",
      "Best hyperparameters for split #9:\n",
      "{'histgradientboostingclassifier__learning_rate': 0.05, 'histgradientboostingclassifier__max_leaf_nodes': 5}\n",
      "with accuracy of 0.623\n",
      "Best hyperparameters for split #10:\n",
      "{'histgradientboostingclassifier__learning_rate': 0.05, 'histgradientboostingclassifier__max_leaf_nodes': 5}\n",
      "with accuracy of 0.592\n"
     ]
    }
   ],
   "source": [
    "# get best values of hyperparameters for each split of outer cross-validation\n",
    "for cv_split, estimator_in_split in enumerate(cv_results[\"estimator\"]):\n",
    "    print(\n",
    "        f\"Best hyperparameters for split #{cv_split + 1}:\\n\"\n",
    "        f\"{estimator_in_split.best_params_}\\n\"\n",
    "        f\"with accuracy of {cv_results['test_score'][cv_split]:.3f}\"\n",
    "    )"
   ]
  },
  {
   "cell_type": "markdown",
   "id": "bd4503bb-391d-443d-8b9a-5fc731acfa86",
   "metadata": {},
   "source": [
    "The most consistent best combination of hyperparameters is learning rate of 0.05 and max leaf nodes of 5."
   ]
  },
  {
   "cell_type": "markdown",
   "id": "79d38e04-570a-4579-b694-1e40ba026773",
   "metadata": {},
   "source": [
    "#### Validation curves to examine fit"
   ]
  },
  {
   "cell_type": "code",
   "execution_count": 54,
   "id": "e4595818-d8c9-4a04-8bb9-724450047d8d",
   "metadata": {},
   "outputs": [],
   "source": [
    "# generate validation curve for learning rate\n",
    "from sklearn.model_selection import validation_curve\n",
    "learning_rate_values = [0.005, 0.01, 0.05, 0.1, 0.5, 1] # centering around previous optimal value\n",
    "hgbc.set_params(histgradientboostingclassifier__max_leaf_nodes=5)\n",
    "train_scores, test_scores = validation_curve(\n",
    "    hgbc, data, target, param_name='histgradientboostingclassifier__learning_rate', param_range=learning_rate_values, scoring='accuracy', n_jobs=2)"
   ]
  },
  {
   "cell_type": "code",
   "execution_count": 55,
   "id": "fc3f1ea3-4a44-46c1-80be-e64fb248cb34",
   "metadata": {},
   "outputs": [
    {
     "data": {
      "image/png": "[encoded data removed]",
      "text/plain": [
       "<Figure size 432x288 with 1 Axes>"
      ]
     },
     "metadata": {
      "needs_background": "light"
     },
     "output_type": "display_data"
    }
   ],
   "source": [
    "# plot validation curve for learning rate\n",
    "import matplotlib.pyplot as plt\n",
    "import numpy as np\n",
    "plt.errorbar(learning_rate_values, train_scores.mean(axis=1), yerr=train_scores.std(axis=1), label=\"Training score\")\n",
    "plt.errorbar(learning_rate_values, test_scores.mean(axis=1), yerr=test_scores.std(axis=1), label=\"Testing score\")\n",
    "plt.legend()\n",
    "plt.xticks(np.arange(0, 1, 0.1))\n",
    "plt.xlabel(\"Learning rate\")\n",
    "plt.ylabel(\"Accuracy\")\n",
    "_ = plt.title(\"Validation curve for learning rate\")"
   ]
  },
  {
   "cell_type": "markdown",
   "id": "56311d85-5361-4a0b-931f-8891a13cf448",
   "metadata": {},
   "source": [
    "Learning rate of 0.05 yields the best fitting model (given max leaf nodes of 5)."
   ]
  },
  {
   "cell_type": "code",
   "execution_count": 56,
   "id": "7d53c55d-d5fd-4261-8be7-4c931dda44d1",
   "metadata": {},
   "outputs": [],
   "source": [
    "# generate validation curve for max leaf nodes\n",
    "max_leaf_nodes_values = [2, 3, 4, 5, 7, 10, 15, 20] # centering around previous optimal value\n",
    "hgbc.set_params(histgradientboostingclassifier__learning_rate=0.05)\n",
    "train_scores, test_scores = validation_curve(\n",
    "    hgbc, data, target, param_name='histgradientboostingclassifier__max_leaf_nodes', param_range=max_leaf_nodes_values, scoring='accuracy', n_jobs=2)"
   ]
  },
  {
   "cell_type": "code",
   "execution_count": 57,
   "id": "312b31ee-5229-4608-86dd-f9c574bef06a",
   "metadata": {},
   "outputs": [
    {
     "data": {
      "image/png": "[encoded data removed]",
      "text/plain": [
       "<Figure size 432x288 with 1 Axes>"
      ]
     },
     "metadata": {
      "needs_background": "light"
     },
     "output_type": "display_data"
    }
   ],
   "source": [
    "# plot validation curve for max leaf nodes\n",
    "plt.errorbar(max_leaf_nodes_values, train_scores.mean(axis=1), yerr=train_scores.std(axis=1), label=\"Training score\")\n",
    "plt.errorbar(max_leaf_nodes_values, test_scores.mean(axis=1), yerr=test_scores.std(axis=1), label=\"Testing score\")\n",
    "plt.legend()\n",
    "plt.xticks(np.arange(0, 20, 2))\n",
    "plt.xlabel(\"Max leaf nodes\")\n",
    "plt.ylabel(\"Accuracy\")\n",
    "_ = plt.title(\"Validation curve for max leaf nodes\")"
   ]
  },
  {
   "cell_type": "markdown",
   "id": "bb2433ea-c3ae-4e12-a3e8-469d7dda04d7",
   "metadata": {},
   "source": [
    "Max leaf nodes of 5 yields the best fitting model (given learning rate of 0.05)."
   ]
  },
  {
   "cell_type": "markdown",
   "id": "f72cc3f9-ea6f-4385-b98b-8caae4079600",
   "metadata": {},
   "source": [
    "## Model evaluation"
   ]
  },
  {
   "cell_type": "code",
   "execution_count": 27,
   "id": "6ffeaeb3-e6cc-40c3-8828-78a081ab2c15",
   "metadata": {},
   "outputs": [
    {
     "name": "stdout",
     "output_type": "stream",
     "text": [
      "The accuracy of the dummy classification model is: 0.532 +/- 0.000\n"
     ]
    }
   ],
   "source": [
    "# run dummy classification model for baseline comparison\n",
    "# this model will just predict the most common class in the target\n",
    "from sklearn.dummy import DummyClassifier\n",
    "dummy_results = cross_validate(DummyClassifier(), data, target, cv=StratifiedShuffleSplit(test_size=0.2))\n",
    "print('The accuracy of the dummy classification model is: ' \n",
    "      f\"{dummy_results['test_score'].mean():.3f} +/- {dummy_results['test_score'].std():.3f}\") "
   ]
  },
  {
   "cell_type": "code",
   "execution_count": 49,
   "id": "a488c775-1d7f-45c3-aaba-bc08f51bb372",
   "metadata": {},
   "outputs": [
    {
     "name": "stdout",
     "output_type": "stream",
     "text": [
      "The accuracy of the HGBC model is: 0.651 +/- 0.022\n",
      "The HGBC model improves upon the accuracy of the dummy model by 0.119\n"
     ]
    }
   ],
   "source": [
    "# run HGBC model for performance comparison\n",
    "hgbc.set_params(histgradientboostingclassifier__learning_rate=0.05, histgradientboostingclassifier__max_leaf_nodes=5)\n",
    "hgbc_results = cross_validate(hgbc, data, target, cv=StratifiedShuffleSplit(test_size=0.2), n_jobs=2)\n",
    "print('The accuracy of the HGBC model is: ' \n",
    "      f\"{hgbc_results['test_score'].mean():.3f} +/- {hgbc_results['test_score'].std():.3f}\\n\"\n",
    "      f\"The HGBC model improves upon the accuracy of the dummy model by {hgbc_results['test_score'].mean()-dummy_results['test_score'].mean():.3f}\")"
   ]
  },
  {
   "cell_type": "code",
   "execution_count": 70,
   "id": "9d9caa2e-22d6-4c6f-91d0-890d8fa86b26",
   "metadata": {},
   "outputs": [
    {
     "data": {
      "image/png": "[encoded data removed]",
      "text/plain": [
       "<Figure size 432x288 with 2 Axes>"
      ]
     },
     "metadata": {
      "needs_background": "light"
     },
     "output_type": "display_data"
    }
   ],
   "source": [
    "# generate confusion matrix to assess model performance in more detail\n",
    "# (performance is a little inflated since training and testing on the full dataset,\n",
    "# but just getting a rough idea of quadrant proportions to look for anything unusual)\n",
    "hgbc.fit(data, target)\n",
    "from sklearn.metrics import ConfusionMatrixDisplay\n",
    "_ = ConfusionMatrixDisplay.from_estimator(hgbc, data, target)"
   ]
  },
  {
   "cell_type": "markdown",
   "id": "58cc05ba-889c-47d8-88de-692dca303068",
   "metadata": {},
   "source": [
    "#### Learning curve to evaluate sample size adequacy"
   ]
  },
  {
   "cell_type": "code",
   "execution_count": 59,
   "id": "497e8aa6-a7a5-441f-93ac-87d2517c20ca",
   "metadata": {},
   "outputs": [],
   "source": [
    "train_size_values = np.linspace(0.1, 1, num=8)\n",
    "from sklearn.model_selection import learning_curve\n",
    "learn_results = learning_curve(hgbc, data, target, train_sizes=train_size_values, scoring='accuracy', n_jobs=2)\n",
    "train_size, train_scores, test_scores = learn_results[:3]"
   ]
  },
  {
   "cell_type": "code",
   "execution_count": 66,
   "id": "ba70943a-a107-4893-bce3-688d2061e1a9",
   "metadata": {},
   "outputs": [
    {
     "data": {
      "image/png": "[encoded data removed]",
      "text/plain": [
       "<Figure size 432x288 with 1 Axes>"
      ]
     },
     "metadata": {
      "needs_background": "light"
     },
     "output_type": "display_data"
    }
   ],
   "source": [
    "# plot learning curve\n",
    "plt.errorbar(train_size, train_scores.mean(axis=1), yerr=train_scores.std(axis=1), label=\"Training score\")\n",
    "plt.errorbar(train_size, test_scores.mean(axis=1), yerr=test_scores.std(axis=1), label=\"Testing score\")\n",
    "plt.legend()\n",
    "plt.xlabel(\"Number of samples in the training set\")\n",
    "plt.ylabel(\"Accuracy\")\n",
    "_ = plt.title(\"Learning curve\")"
   ]
  },
  {
   "cell_type": "markdown",
   "id": "fafa042c-bcad-48ef-9b22-b289fea7d250",
   "metadata": {},
   "source": [
    "These results suggest that the model is reasonably well fitted, however modest gains in predictive performance may be possible with additional data,  \n",
    "as the curves have not fully flattened by the full training size."
   ]
  },
  {
   "cell_type": "markdown",
   "id": "8c7b7f07-0331-451e-8a82-f05140001dd8",
   "metadata": {},
   "source": [
    "## Conclusions"
   ]
  },
  {
   "cell_type": "markdown",
   "id": "10be7dea-6623-430a-ba01-343c07a4d984",
   "metadata": {},
   "source": [
    "Overall, I was able to predict the beliefs of employees in tech and related industries  \n",
    "regarding whether being identified as having a mental health issue would hurt their career  \n",
    "based on demographics, mental illness history, remote working status, and  \n",
    "experiences with current and previous employers regarding mental health.  \n",
    "The prediction accuracy of the model (65%) was significantly better than a baseline model  \n",
    "that did not leverage these features."
   ]
  },
  {
   "cell_type": "code",
   "execution_count": null,
   "id": "b58b0522-3add-4ef8-897e-da37d0614c4f",
   "metadata": {},
   "outputs": [],
   "source": []
  }
 ],
 "metadata": {
  "kernelspec": {
   "display_name": "data_sci_py",
   "language": "python",
   "name": "base"
  },
  "language_info": {
   "codemirror_mode": {
    "name": "ipython",
    "version": 3
   },
   "file_extension": ".py",
   "mimetype": "text/x-python",
   "name": "python",
   "nbconvert_exporter": "python",
   "pygments_lexer": "ipython3",
   "version": "3.9.12"
  }
 },
 "nbformat": 4,
 "nbformat_minor": 5
}
